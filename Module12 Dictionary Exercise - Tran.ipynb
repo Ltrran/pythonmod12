{
 "cells": [
  {
   "cell_type": "markdown",
   "metadata": {},
   "source": [
    "### Exercise 1. \n",
    "Create a dictionary named pairs with key value pairs of:\n",
    "    - 'hello' and 'fire', \n",
    "    - 3 and 'seven', \n",
    "    - 'strong' and 45. \n",
    "\n",
    "Then, print out the dictionary."
   ]
  },
  {
   "cell_type": "code",
   "execution_count": null,
   "metadata": {},
   "outputs": [],
   "source": [
    "pairs = {}\n",
    "pairs[\"hello\"] = 'fire'\n",
    "pairs[\"-3\"] = 'seven'\n",
    "pairs[\"strong\"] = '45'\n",
    "\n",
    "\n",
    "\n",
    "print(pairs)"
   ]
  },
  {
   "cell_type": "markdown",
   "metadata": {},
   "source": [
    "### Exercise 2. \n",
    "Add 'welcome' and 56 pair into <b><i>pairs</i></b> dictionary from exercise 1. Then, print out the dictionary. "
   ]
  },
  {
   "cell_type": "code",
   "execution_count": null,
   "metadata": {},
   "outputs": [],
   "source": [
    "pairs[\"welcome\"] ='56' \n",
    "print(pairs)"
   ]
  },
  {
   "cell_type": "markdown",
   "metadata": {},
   "source": [
    "### Exercise 3. \n",
    "Delete one item from <b><i>pairs</i></b> dictionary. Then, print deleted item and the dictionary."
   ]
  },
  {
   "cell_type": "code",
   "execution_count": null,
   "metadata": {},
   "outputs": [],
   "source": [
    "deleted_item = pairs.pop(\"strong\")            #can recall deleted item using 'pop' like this but not 'del'\n",
    "print(\"Deleted item is:\", deleted_item)\n",
    "print(pairs)"
   ]
  },
  {
   "cell_type": "markdown",
   "metadata": {},
   "source": [
    "### Exercise 4. \n",
    "Print the value of an item where key is 3 in <b><i>pairs</i></b> dicitonary"
   ]
  },
  {
   "cell_type": "code",
   "execution_count": null,
   "metadata": {},
   "outputs": [],
   "source": [
    "value_of_key3 = pairs.get(\"3\")\n",
    "print(value_of_key3)"
   ]
  },
  {
   "cell_type": "markdown",
   "metadata": {},
   "source": [
    "### Exercise 5. \n",
    "Try to find out if the key called 'hello' exist in <b><i>pairs</i></b> dictionary. Print 'key is found' message if the key exists otherwise print 'key is not there'."
   ]
  },
  {
   "cell_type": "code",
   "execution_count": null,
   "metadata": {},
   "outputs": [],
   "source": [
    "value_of_key_hello = pairs.get(\"hello\")\n",
    "if value_of_key_hello is not None :\n",
    "    print(\"The value associated with key 'hello' is:\", value_of_key_hello) #need a common between string and variable\n",
    "else:\n",
    "    print(\"Key is not there\")"
   ]
  },
  {
   "cell_type": "markdown",
   "metadata": {},
   "source": [
    "### Exercise 6. \n",
    "Create a Test Scores program that gets the name of students and test score from a user. Then, generate a list of students who passed and a list of students who failed where passing test score is 60 or above. "
   ]
  },
  {
   "cell_type": "code",
   "execution_count": null,
   "metadata": {},
   "outputs": [],
   "source": [
    "pass_students = []\n",
    "fail_students = []\n",
    "\n",
    "while True:\n",
    "    student = input(\"Enter student name or type 'stop' to finish: \")\n",
    "    \n",
    "    if student == 'stop':\n",
    "        break\n",
    "    \n",
    "    score = int(input(\"Enter test score: \"))\n",
    "    \n",
    "    if score >= 60:\n",
    "        pass_students.append(student)\n",
    "    else:\n",
    "        fail_students.append(student)\n",
    "        \n",
    "print(\"Students who passed: \")\n",
    "for student in pass_students:\n",
    "    print(student)\n",
    "\n",
    "print(\"\\nStudents who failed:\")\n",
    "for student in fail_students:\n",
    "    print(student)\n"
   ]
  },
  {
   "cell_type": "markdown",
   "metadata": {},
   "source": [
    "### Exercise 7. \n",
    "\n",
    "Create a Word Counter program that gets a string of text from a user and then counts the number of times a word occrs in the string. \n",
    "\n",
    "The output should look something like this:\n",
    "\n",
    "    The Word Counter Program\n",
    "    \n",
    "    Enter a text string: \n",
    "    Humpty Dumpty sat on a wall, Humpty Dumpty had a great fall. All the king’s horses and all the king’s men couldn’t put Humpty together again.\n",
    "\n",
    "    a : 2\n",
    "    again : 1\n",
    "    all : 2\n",
    "    and : 1\n",
    "    couldn’t : 1\n",
    "    dumpty : 2\n",
    "    fall : 1\n",
    "    great : 1\n",
    "    had : 1\n",
    "    horses : 1\n",
    "    humpty : 3\n",
    "    king’s : 2\n",
    "    men : 1\n",
    "    on : 1\n",
    "    put : 1\n",
    "    sat : 1\n",
    "    the : 2\n",
    "    together : 1\n",
    "    wall : 1\n",
    "\n",
    "    There were total 26 words in the text string   "
   ]
  },
  {
   "cell_type": "code",
   "execution_count": 2,
   "metadata": {},
   "outputs": [
    {
     "name": "stdout",
     "output_type": "stream",
     "text": [
      "The Word Counter Program\n",
      "\n",
      "Enter a text string: Humpty Dumpty sat on a wall, Humpty Dumpty had a great fall. All the king’s horses and all the king’s men couldn’t put Humpty together again.\n",
      "\n",
      "Word counts:\n",
      "a : 2\n",
      "again : 1\n",
      "all : 2\n",
      "and : 1\n",
      "couldn’t : 1\n",
      "dumpty : 2\n",
      "fall : 1\n",
      "great : 1\n",
      "had : 1\n",
      "horses : 1\n",
      "humpty : 3\n",
      "king’s : 2\n",
      "men : 1\n",
      "on : 1\n",
      "put : 1\n",
      "sat : 1\n",
      "the : 2\n",
      "together : 1\n",
      "wall : 1\n",
      "\n",
      "There were total 26 words in the text string\n"
     ]
    }
   ],
   "source": [
    "def word_counter(text):\n",
    "   \n",
    "    words = text.lower().split()  # Convert text to lowercase and split it into words\n",
    "    \n",
    "    word_count = {}  # Dictionary to store word counts\n",
    "    \n",
    "    for word in words: #counting occurences of each word\n",
    "          word = word.strip(\",.?!;:'\\\"\")   # Remove punctuation from the word\n",
    "        if word in word_count:\n",
    "            word_count[word] += 1\n",
    "        else:\n",
    "            word_count[word] = 1\n",
    "    \n",
    "    return word_count\n",
    "\n",
    "\n",
    "\n",
    "\n",
    "\n",
    "print(\"The Word Counter Program\\n\")\n",
    "text = input(\"Enter a text string: \") \n",
    "\n",
    "\n",
    "word_counts = word_counter(text) #count words of text\n",
    "\n",
    "print(\"\\nWord counts:\")\n",
    "for word, count in sorted(word_counts.items()): #sorted() function sorts words alphabetically by default\n",
    "    print(f\"{word} : {count}\") #displaying the word and count\n",
    "\n",
    "total_words = 0 # a variable to keep track of the total number of words, starting at 0\n",
    "for count in word_counts.values():  #loop that iterates over the occurences of each word\n",
    "    total_words += count #accumulates count of all words\n",
    "\n",
    "print(f\"\\nThere were total {total_words} words in the text string\")\n"
   ]
  },
  {
   "cell_type": "code",
   "execution_count": null,
   "metadata": {},
   "outputs": [],
   "source": []
  }
 ],
 "metadata": {
  "kernelspec": {
   "display_name": "Python 3 (ipykernel)",
   "language": "python",
   "name": "python3"
  },
  "language_info": {
   "codemirror_mode": {
    "name": "ipython",
    "version": 3
   },
   "file_extension": ".py",
   "mimetype": "text/x-python",
   "name": "python",
   "nbconvert_exporter": "python",
   "pygments_lexer": "ipython3",
   "version": "3.11.5"
  }
 },
 "nbformat": 4,
 "nbformat_minor": 4
}
